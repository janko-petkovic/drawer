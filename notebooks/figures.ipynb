{
 "cells": [
  {
   "cell_type": "code",
   "execution_count": 1,
   "id": "a3c7c64a",
   "metadata": {},
   "outputs": [],
   "source": [
    "import matplotlib.pyplot as plt\n",
    "import numpy as np"
   ]
  },
  {
   "cell_type": "code",
   "execution_count": 2,
   "id": "82ac613e",
   "metadata": {},
   "outputs": [],
   "source": [
    "%matplotlib tk"
   ]
  },
  {
   "cell_type": "code",
   "execution_count": 3,
   "id": "e2e0ae78",
   "metadata": {},
   "outputs": [],
   "source": [
    "x = np.linspace(-3,3,500)\n",
    "y = np.linspace(-3,3,500)\n",
    "\n",
    "rng = np.random.default_rng(2024)\n",
    "\n",
    "def f(x,y,n=5):\n",
    "\n",
    "    mus = rng.normal(size=(n,2))*1.5\n",
    "    sigmas = rng.normal(size=(n,2))\n",
    "    \n",
    "    res = 0\n",
    "    for mu, sigma in zip(mus, sigmas):\n",
    "        res -= np.exp(-(x-mu[0])**2/sigma[0]**2 - (y-mu[1])**2/sigma[1]**2)\n",
    "    \n",
    "    return res\n",
    "\n",
    "def f(x,y,n=5):\n",
    "\n",
    "    return np.log((1-x)**2 + 100*(y-x**2)**2)\n",
    "\n",
    "xx, yy = np.meshgrid(x,y)\n",
    "\n",
    "zz = f(xx,yy,n=10)\n",
    "\n",
    "ax = plt.figure().add_subplot(projection='3d')\n",
    "\n",
    "ax.plot_surface(xx,yy,zz)\n",
    "ax.grid(False)\n",
    "\n",
    "# Get rid of the panes\n",
    "ax.xaxis.set_pane_color((1.0, 1.0, 1.0, 0.0))\n",
    "ax.yaxis.set_pane_color((1.0, 1.0, 1.0, 0.0))\n",
    "# ax.zaxis.set_pane_color((1.0, 1.0, 1.0, 0.0))\n",
    "\n",
    "# Get rid of the spines\n",
    "ax.xaxis.line.set_color((1.0, 1.0, 1.0, 0.0))\n",
    "ax.yaxis.line.set_color((1.0, 1.0, 1.0, 0.0))\n",
    "ax.zaxis.line.set_color((1.0, 1.0, 1.0, 0.0))\n",
    "\n",
    "ax.set_xticks([])                               \n",
    "ax.set_yticks([])                               \n",
    "ax.set_zticks([])\n",
    "# for sp in ax.spines.values(): sp.set_visible(False)\n",
    "\n",
    "plt.savefig('fig.svg')"
   ]
  },
  {
   "cell_type": "code",
   "execution_count": 16,
   "id": "56672da4",
   "metadata": {},
   "outputs": [],
   "source": [
    "x = np.linspace(-3,3,500)\n",
    "y = np.linspace(-3,3,500)\n",
    "\n",
    "rng = np.random.default_rng(2024)\n",
    "\n",
    "\n",
    "def f(x,y,n=5):\n",
    "\n",
    "    return x**2 + y**2\n",
    "\n",
    "xx, yy = np.meshgrid(x,y)\n",
    "\n",
    "zz = f(xx,yy,n=10)\n",
    "\n",
    "ax = plt.figure().add_subplot(projection='3d')\n",
    "\n",
    "ax.plot_surface(xx,yy,zz)\n",
    "ax.grid(False)\n",
    "\n",
    "# Get rid of the panes\n",
    "ax.xaxis.set_pane_color((1.0, 1.0, 1.0, 0.0))\n",
    "ax.yaxis.set_pane_color((1.0, 1.0, 1.0, 0.0))\n",
    "# ax.zaxis.set_pane_color((1.0, 1.0, 1.0, 0.0))\n",
    "\n",
    "# Get rid of the spines\n",
    "ax.xaxis.line.set_color((1.0, 1.0, 1.0, 0.0))\n",
    "ax.yaxis.line.set_color((1.0, 1.0, 1.0, 0.0))\n",
    "ax.zaxis.line.set_color((1.0, 1.0, 1.0, 0.0))\n",
    "\n",
    "ax.set_xticks([])                               \n",
    "ax.set_yticks([])                               \n",
    "ax.set_zticks([])\n",
    "# for sp in ax.spines.values(): sp.set_visible(False)\n",
    "\n",
    "plt.savefig('fig.svg')\n"
   ]
  },
  {
   "cell_type": "code",
   "execution_count": 13,
   "id": "e4f1baf4",
   "metadata": {},
   "outputs": [
    {
     "data": {
      "text/plain": [
       "[<matplotlib.lines.Line2D at 0x7f25c06079d0>]"
      ]
     },
     "execution_count": 13,
     "metadata": {},
     "output_type": "execute_result"
    }
   ],
   "source": [
    "plt.plot(zz.sum(axis=0))"
   ]
  }
 ],
 "metadata": {
  "kernelspec": {
   "display_name": "pypesto13",
   "language": "python",
   "name": "python3"
  },
  "language_info": {
   "codemirror_mode": {
    "name": "ipython",
    "version": 3
   },
   "file_extension": ".py",
   "mimetype": "text/x-python",
   "name": "python",
   "nbconvert_exporter": "python",
   "pygments_lexer": "ipython3",
   "version": "3.13.5"
  }
 },
 "nbformat": 4,
 "nbformat_minor": 5
}
