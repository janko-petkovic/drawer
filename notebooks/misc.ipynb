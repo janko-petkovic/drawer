{
 "cells": [
  {
   "cell_type": "code",
   "execution_count": 12,
   "metadata": {},
   "outputs": [],
   "source": [
    "import numpy as np\n",
    "import matplotlib.pyplot as plt\n",
    "%matplotlib inline\n",
    "\n",
    "from scipy.integrate import solve_ivp\n",
    "from functools import partial\n",
    "from numba import jit"
   ]
  },
  {
   "cell_type": "code",
   "execution_count": 160,
   "metadata": {},
   "outputs": [],
   "source": [
    "@jit\n",
    "def RHS_diffusion_neumann(i,x):\n",
    "    '''\n",
    "    Integrates a diffusion with no flux boundary conditions\n",
    "    t: float\n",
    "    x: array 1d\n",
    "    '''\n",
    "\n",
    "    dxdt = np.zeros(len(x))\n",
    "\n",
    "    dxdt[1:-1] = x[:-2] + x[2:] - 2*x[1:-1]\n",
    "\n",
    "    # Apply the boundary conditions (no flux)\n",
    "    dxdt[0] = x[1] - x[0]\n",
    "    dxdt[-1] = x[-2] - x[-1]\n",
    "\n",
    "    return dxdt\n",
    "\n",
    "@jit\n",
    "def RHS_diffusion_dirichlet(i,x):\n",
    "    '''\n",
    "    Integrates a diffusion with no flux boundary conditions\n",
    "    t: float\n",
    "    x: array 1d\n",
    "    '''\n",
    "\n",
    "    dxdt = np.zeros(len(x))\n",
    "\n",
    "    dxdt[1:-1] = x[:-2] + x[2:] - 2*x[1:-1]\n",
    "\n",
    "    # Apply the boundary conditions (no flux)\n",
    "    dxdt[0] = 0\n",
    "    dxdt[-1] = 0\n",
    "\n",
    "    return dxdt\n",
    "\n",
    "@jit\n",
    "def integrate_pde(RHS, source_idx, source_amount, n_steps, dt):\n",
    "    \n",
    "    xt = np.empty(shape=(n_steps, 30))\n",
    "    xt[0] = np.zeros(30)\n",
    "    xt[0, source_idx] = source_amount\n",
    "\n",
    "    for i in range(1,n_steps):\n",
    "        xt[i] = xt[i-1] + RHS(i, xt[i-1]) * dt\n",
    "\n",
    "    return xt\n",
    "\n"
   ]
  },
  {
   "cell_type": "code",
   "execution_count": 166,
   "metadata": {},
   "outputs": [],
   "source": [
    "rng = np.random.default_rng(2025)\n",
    "source_idxs = rng.integers(0,30, size=(50,))\n",
    "source_amounts = rng.integers(100,200,size=(50,))\n",
    "\n",
    "n_steps = 10000\n",
    "dt = 1e-1\n",
    "\n",
    "dataset = []\n",
    "\n",
    "for sr, sa in zip(source_idxs, source_amounts):\n",
    "    dataset.append(integrate_pde(RHS_diffusion_dirichlet, sr, sa, n_steps, dt).T)\n",
    "\n",
    "dataset = np.stack(dataset)"
   ]
  },
  {
   "cell_type": "code",
   "execution_count": 167,
   "metadata": {},
   "outputs": [
    {
     "name": "stderr",
     "output_type": "stream",
     "text": [
      "/tmp/ipykernel_233682/2679205859.py:4: RuntimeWarning: divide by zero encountered in log\n",
      "  np.log(dataset) +\n"
     ]
    }
   ],
   "source": [
    "# Add lognormal noise to the simulation\n",
    "noisy_dataset = (\n",
    "    np.exp(\n",
    "        np.log(dataset) +\n",
    "        rng.normal(scale=0.1, size=dataset.shape)\n",
    "    )\n",
    ")"
   ]
  },
  {
   "cell_type": "code",
   "execution_count": 168,
   "metadata": {},
   "outputs": [
    {
     "data": {
      "text/plain": [
       "(0.0, 100.0)"
      ]
     },
     "execution_count": 168,
     "metadata": {},
     "output_type": "execute_result"
    },
    {
     "data": {
      "image/png": "[encoded data removed]",
      "text/plain": [
       "<Figure size 640x480 with 1 Axes>"
      ]
     },
     "metadata": {},
     "output_type": "display_data"
    }
   ],
   "source": [
    "dataset.dtype\n",
    "\n",
    "plt.plot(noisy_dataset[40,:,1000])\n",
    "plt.ylim(0,100)"
   ]
  },
  {
   "cell_type": "code",
   "execution_count": 169,
   "metadata": {},
   "outputs": [],
   "source": [
    "np.save('noisy-simulation', noisy_dataset)\n",
    "np.save('simulation', dataset)"
   ]
  }
 ],
 "metadata": {
  "kernelspec": {
   "display_name": "pypesto13",
   "language": "python",
   "name": "python3"
  },
  "language_info": {
   "codemirror_mode": {
    "name": "ipython",
    "version": 3
   },
   "file_extension": ".py",
   "mimetype": "text/x-python",
   "name": "python",
   "nbconvert_exporter": "python",
   "pygments_lexer": "ipython3",
   "version": "3.13.7"
  }
 },
 "nbformat": 4,
 "nbformat_minor": 2
}
